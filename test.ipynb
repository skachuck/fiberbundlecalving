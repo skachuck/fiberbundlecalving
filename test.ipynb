{
 "cells": [
  {
   "cell_type": "code",
   "execution_count": 1,
   "metadata": {},
   "outputs": [],
   "source": [
    "from ssaModel import *"
   ]
  },
  {
   "cell_type": "code",
   "execution_count": 2,
   "metadata": {},
   "outputs": [
    {
     "name": "stdout",
     "output_type": "stream",
     "text": [
      "18000\n"
     ]
    }
   ],
   "source": [
    "# Setup some fenics log stuff to output diagnostic information\n",
    "set_log_level(00)\n",
    "set_log_active(False)\n",
    "\n",
    "# Set simulation parameters\n",
    "DT = 8640000 #100 days\n",
    "Nx = 2**8    # Number of points in the x-direction\n",
    "Lx = 200e3/1 # Length of domain in the x-direction\n",
    "DX = Lx/Nx\n",
    "NT = 100\n",
    "\n",
    "# Set ice shelf parameters for Erebus\n",
    "accum = -2./time_factor # m/s\n",
    "H0 = 434.          # Ice thickness at the grounding line (m)\n",
    "U0 = 95./time_factor # Velocity of ice at the grounding line (m/a)\n",
    "B = (2.54e-17/time_factor)**(-1./3.)\n",
    "# Lx = -H0*U0/accum - 1e-6\n",
    "Lx = 18000\n",
    "print(Lx)"
   ]
  },
  {
   "cell_type": "code",
   "execution_count": 3,
   "metadata": {},
   "outputs": [
    {
     "name": "stdout",
     "output_type": "stream",
     "text": [
      "Calving to Lmax\n",
      "Calving to Lmax\n",
      "Calving to Lmax\n",
      "Calving to Lmax\n",
      "Calving to Lmax\n",
      "Calving to Lmax\n",
      "Calving to Lmax\n",
      "Calving to Lmax\n",
      "Calving to Lmax\n",
      "Calving to Lmax\n",
      "Calving to Lmax\n",
      "Calving to Lmax\n",
      "Calving to Lmax\n",
      "Calving to Lmax\n",
      "Calving to Lmax\n",
      "Calving to Lmax\n",
      "Calving to Lmax\n",
      "Calving to Lmax\n",
      "Calving to Lmax\n",
      "Calving to Lmax\n",
      "Calving to Lmax\n",
      "Calving to Lmax\n",
      "Calving to Lmax\n",
      "Calving to Lmax\n",
      "Calving to Lmax\n",
      "Calving to Lmax\n",
      "Calving to Lmax\n",
      "Calving to Lmax\n",
      "Calving to Lmax\n",
      "Calving to Lmax\n",
      "Calving to Lmax\n",
      "Calving to Lmax\n",
      "Calving to Lmax\n",
      "Calving to Lmax\n",
      "Calving to Lmax\n",
      "Calving to Lmax\n",
      "Calving to Lmax\n",
      "Calving to Lmax\n",
      "Calving to Lmax\n",
      "Calving to Lmax\n",
      "Calving to Lmax\n",
      "Calving to Lmax\n",
      "Calving to Lmax\n"
     ]
    },
    {
     "data": {
      "image/png": "[encoded data removed]",
      "text/plain": [
       "<Figure size 432x288 with 1 Axes>"
      ]
     },
     "metadata": {
      "needs_background": "light"
     },
     "output_type": "display_data"
    },
    {
     "name": "stdout",
     "output_type": "stream",
     "text": [
      "('Length of the velocity array:', 100)\n",
      "('Length of the positions array:', 100)\n"
     ]
    }
   ],
   "source": [
    "# Initialize model\n",
    "mesh = IntervalMesh(Nx, 0.0, Lx)\n",
    "fbmkwargs={'Lx':Lx,\n",
    "           'N0':1000,\n",
    "           'Nf':10,\n",
    "           'xsep':20,\n",
    "           'fbm_type':None}\n",
    "\n",
    "ssaModel = ssa1D(mesh, order=1, U0=U0, H0=H0, B=B,\n",
    "                 advect_front=True, calve_flag=False,\n",
    "                 fbm_type=None, fbmkwargs=fbmkwargs,\n",
    "                 Lmax=-H0*U0/accum - 1e-6);\n",
    "\n",
    "del mesh\n",
    "x, H, U = ssaModel.steady_state(accum)\n",
    "H, U = ssaModel.init_shelf(accum)\n",
    "ssaModel.H = H\n",
    "ssaModel.U = U\n",
    "\n",
    "\n",
    "U_for_times = [] #Velocity \n",
    "Lx_for_times = [] #Lx for a bunchof times \n",
    "for Nt in range(100):\n",
    "#     ssaModel.Lx = ssaModel.U.vector().get_local()*DT\n",
    "    H, U = ssaModel.integrate(H,U,dt=DT,Nt=1,accum=1e-16);\n",
    "    Lx_for_times.append(ssaModel.Lx)\n",
    "    U_for_times.append(ssaModel.U(ssaModel.Lx)*time_factor)\n",
    "plt.plot(Lx_for_times,U_for_times)\n",
    "plt.show()\n",
    "print(\"Length of the velocity array:\",len(U_for_times))\n",
    "print(\"Length of the positions array:\",len(Lx_for_times))\n",
    "# print(steps2)\n",
    "# print(steps1)"
   ]
  },
  {
   "cell_type": "code",
   "execution_count": 4,
   "metadata": {},
   "outputs": [
    {
     "data": {
      "image/png": "[encoded data removed]",
      "text/plain": [
       "<Figure size 432x288 with 1 Axes>"
      ]
     },
     "metadata": {
      "needs_background": "light"
     },
     "output_type": "display_data"
    }
   ],
   "source": [
    "%run analytictongue.py \n",
    "\n",
    "erebus = AnalyticTongue(h0=H0, u0=U0, mdot=MDOT, n=N, A=A, rhow=RHOW, rhoi=RHOI, g=G)\n",
    "u = erebus.u(np.array(Lx_for_times)) #changed from list to array \n",
    "plt.plot(Lx_for_times,u)\n",
    "plt.show()"
   ]
  },
  {
   "cell_type": "code",
   "execution_count": null,
   "metadata": {},
   "outputs": [],
   "source": []
  }
 ],
 "metadata": {
  "kernelspec": {
   "display_name": "Python 2",
   "language": "python",
   "name": "python2"
  },
  "language_info": {
   "codemirror_mode": {
    "name": "ipython",
    "version": 2
   },
   "file_extension": ".py",
   "mimetype": "text/x-python",
   "name": "python",
   "nbconvert_exporter": "python",
   "pygments_lexer": "ipython2",
   "version": "2.7.15"
  }
 },
 "nbformat": 4,
 "nbformat_minor": 2
}

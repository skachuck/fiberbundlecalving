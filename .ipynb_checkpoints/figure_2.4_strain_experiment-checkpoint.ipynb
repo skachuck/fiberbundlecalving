{
 "cells": [
  {
   "cell_type": "code",
   "execution_count": 2,
   "metadata": {},
   "outputs": [],
   "source": [
    "from array import *\n",
    "import numpy as np\n",
    "import matplotlib.pyplot as plt"
   ]
  },
  {
   "cell_type": "code",
   "execution_count": 3,
   "metadata": {},
   "outputs": [
    {
     "data": {
      "image/png": "[encoded data removed]",
      "text/plain": [
       "<Figure size 432x288 with 1 Axes>"
      ]
     },
     "metadata": {
      "needs_background": "light"
     },
     "output_type": "display_data"
    }
   ],
   "source": [
    "\"\"\"\n",
    "Figure 2.4: The Strain-Controlled Experiment\n",
    "All parallel fibers hae the same elastic constant k (normalized to unity) and different breaking threshodls x_i\n",
    "\"\"\"\n",
    "#Parameters:\n",
    "N = 20 #Number of parallel fibers in a bundle\n",
    "x_r = 1 #Length scale, normalized\n",
    "dx = x_r/N #Change in elongation between the threshold values\n",
    "\n",
    "#Set arrays for the threshold values (x), values in between the thresholds (X), the force on a bundle (F), and the limiting curve of the force per fiber as N --> infinity (f).\n",
    "xsave = array('f',[])\n",
    "Xsave = array('f',[])\n",
    "Fsave = array('f',[])\n",
    "fsave = array('f',[])\n",
    "\n",
    "#Calculating the threshold values and the force on the bundle for every bundle for: all bundles\n",
    "for i in range(0,21):\n",
    "    x = (x_r*i)/N\n",
    "    F = x*(N-i)\n",
    "    xsave.append(x)\n",
    "    Xsave.append(x)\n",
    "    Fsave.append(F)\n",
    "    \n",
    "    #Calculating the limiting curve:\n",
    "    f_x = x*(1-x)\n",
    "    fsave.append(f_x)\n",
    "    \n",
    "    #Number of points in between threshold values\n",
    "    for j in range(5):\n",
    "        x = x + dx/5\n",
    "        #Setting the condition that the force on the bundle is calculated when we go beyond the threshold values:\n",
    "        if x < (x_r*(i+1)/N):\n",
    "            Xsave.append(x)\n",
    "            F = x*(N-i)\n",
    "            Fsave.append(F)\n",
    "\n",
    "#Dividing the force per bundle array by the number of fibers in a bundle to get the force per fiber\n",
    "Fsave = np.divide(Fsave,20)\n",
    "\n",
    "#print(Fsave)\n",
    "#print(\"Xsave:\",Xsave)\n",
    "#print(\"xsave:\",xsave)\n",
    "\n",
    "#Plotting the force per fiber vs. elongation\n",
    "plt.plot(Xsave,Fsave,label=\"Force per fiber\")\n",
    "#plotting the limitting curve\n",
    "plt.plot(xsave,fsave,label=\"limiting curve\")\n",
    "plt.xlabel(\"x/x_r\")\n",
    "plt.ylabel(\"F/N\")\n",
    "plt.legend()\n",
    "plt.show()"
   ]
  },
  {
   "cell_type": "code",
   "execution_count": null,
   "metadata": {},
   "outputs": [],
   "source": []
  }
 ],
 "metadata": {
  "kernelspec": {
   "display_name": "Python 2",
   "language": "python",
   "name": "python2"
  },
  "language_info": {
   "codemirror_mode": {
    "name": "ipython",
    "version": 2
   },
   "file_extension": ".py",
   "mimetype": "text/x-python",
   "name": "python",
   "nbconvert_exporter": "python",
   "pygments_lexer": "ipython2",
   "version": "2.7.15"
  }
 },
 "nbformat": 4,
 "nbformat_minor": 2
}

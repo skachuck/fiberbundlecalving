{
 "cells": [
  {
   "cell_type": "code",
   "execution_count": 1,
   "metadata": {},
   "outputs": [],
   "source": [
    "import numpy as np\n",
    "import math\n",
    "import matplotlib.pyplot as plt\n"
   ]
  },
  {
   "cell_type": "code",
   "execution_count": 2,
   "metadata": {},
   "outputs": [],
   "source": [
    "# Constants \n",
    "time_factor = 86400.0*365.24\n",
    "mdot = 2. # m/a\n",
    "h0 = 434.          # Ice thickness at the grounding line (m)\n",
    "u0 = 95. # Velocity of ice at the grounding line (m/a)\n",
    "A = (2.54e-17)\n",
    "\n",
    "pi = 910.\n",
    "pw = 1028.\n",
    "n = 3. \n",
    "g = 9.81 "
   ]
  },
  {
   "cell_type": "code",
   "execution_count": 3,
   "metadata": {},
   "outputs": [
    {
     "name": "stdout",
     "output_type": "stream",
     "text": [
      "[     0.            420.71428569    841.42857139   1262.14285708\n",
      "   1682.85714278   2103.57142847   2524.28571416   2944.99999986\n",
      "   3365.71428555   3786.42857124   4207.14285694   4627.85714263\n",
      "   5048.57142833   5469.28571402   5889.99999971   6310.71428541\n",
      "   6731.4285711    7152.1428568    7572.85714249   7993.57142818\n",
      "   8414.28571388   8834.99999957   9255.71428527   9676.42857096\n",
      "  10097.14285665  10517.85714235  10938.57142804  11359.28571373\n",
      "  11779.99999943  12200.71428512  12621.42857082  13042.14285651\n",
      "  13462.8571422   13883.5714279   14304.28571359  14724.99999929\n",
      "  15145.71428498  15566.42857067  15987.14285637  16407.85714206\n",
      "  16828.57142776  17249.28571345  17669.99999914  18090.71428484\n",
      "  18511.42857053  18932.14285622  19352.85714192  19773.57142761\n",
      "  20194.28571331  20614.999999  ]\n",
      "20614.999999\n"
     ]
    }
   ],
   "source": [
    "from analytictongue import *\n",
    "\n",
    "erebus = AnalyticTongue(h0=h0, u0=u0, A=A, n=n, mdot=-mdot)\n",
    "\n",
    "# 0 < x < lmax \n",
    "\n",
    "lmax = erebus.lmax-1e-6\n",
    "x = np.linspace(0,lmax,50)\n",
    "print(x)\n",
    "print(lmax)"
   ]
  },
  {
   "cell_type": "code",
   "execution_count": 16,
   "metadata": {},
   "outputs": [
    {
     "name": "stdout",
     "output_type": "stream",
     "text": [
      "2.17546539503e-10\n"
     ]
    }
   ],
   "source": [
    "#Calculating constant C for analytic h* \n",
    "C = A*((pi*g*(pw-pi))/(4*pw))**n\n",
    "print(C)"
   ]
  },
  {
   "cell_type": "code",
   "execution_count": 17,
   "metadata": {
    "scrolled": true
   },
   "outputs": [
    {
     "name": "stdout",
     "output_type": "stream",
     "text": [
      "1.41797494514e-08\n"
     ]
    }
   ],
   "source": [
    "#Calculating h*\n",
    "\n",
    "num = (u0**(n+1)*(1+(C/mdot)*(h0**(n+1))))\n",
    "\n",
    "denom = (h0*u0-mdot*lmax)**(n+1)\n",
    "\n",
    "h = (num/denom - (C/mdot))**(-1/(n+1))\n",
    "print(h)"
   ]
  },
  {
   "cell_type": "code",
   "execution_count": 18,
   "metadata": {},
   "outputs": [
    {
     "name": "stdout",
     "output_type": "stream",
     "text": [
      "141.04626347\n"
     ]
    }
   ],
   "source": [
    "# Analytic velocity \n",
    "U = (h0*u0 - mdot*lmax)/h\n",
    "Uanaly = U\n",
    "print(Uanaly)"
   ]
  },
  {
   "cell_type": "code",
   "execution_count": 20,
   "metadata": {},
   "outputs": [
    {
     "name": "stdout",
     "output_type": "stream",
     "text": [
      "0.39521105468\n"
     ]
    }
   ],
   "source": [
    "strain = np.log(Uanaly/u0)\n",
    "print(strain)\n",
    "\n",
    "#still not quite right we need something around 0.537 based on Sam's \n",
    "#analytic tongue file but it's the closest we've gotten"
   ]
  },
  {
   "cell_type": "code",
   "execution_count": null,
   "metadata": {},
   "outputs": [],
   "source": []
  }
 ],
 "metadata": {
  "kernelspec": {
   "display_name": "Python 2",
   "language": "python",
   "name": "python2"
  },
  "language_info": {
   "codemirror_mode": {
    "name": "ipython",
    "version": 2
   },
   "file_extension": ".py",
   "mimetype": "text/x-python",
   "name": "python",
   "nbconvert_exporter": "python",
   "pygments_lexer": "ipython2",
   "version": "2.7.15"
  }
 },
 "nbformat": 4,
 "nbformat_minor": 2
}
